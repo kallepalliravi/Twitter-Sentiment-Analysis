{
 "cells": [
  {
   "cell_type": "markdown",
   "metadata": {},
   "source": [
    "## Import tweets using twitter API, clean data, do sentiment analsis and create a csv file to analyze the data in R"
   ]
  },
  {
   "cell_type": "code",
   "execution_count": 1,
   "metadata": {
    "collapsed": false
   },
   "outputs": [],
   "source": [
    "# Import all modules required\n",
    "\n",
    "import tweepy\n",
    "import datetime\n",
    "import time\n",
    "import pandas as pd\n",
    "import numpy as np\n",
    "import json\n",
    "import re\n",
    "from textblob import TextBlob\n",
    "from wordcloud import WordCloud, STOPWORDS\n",
    "import matplotlib.pyplot as plt\n"
   ]
  },
  {
   "cell_type": "markdown",
   "metadata": {},
   "source": [
    "## Tweet Collection"
   ]
  },
  {
   "cell_type": "code",
   "execution_count": 46,
   "metadata": {
    "collapsed": false
   },
   "outputs": [],
   "source": [
    "# twitter api access codes\n",
    "\n",
    "con_key = 'enter con_key'\n",
    "con_secret = 'enter con_secret'\n",
    "acc_token = 'enter acc_token'\n",
    "acc_secret = 'enter acc_secret'"
   ]
  },
  {
   "cell_type": "code",
   "execution_count": 47,
   "metadata": {
    "collapsed": false
   },
   "outputs": [],
   "source": [
    "#Use tweepy.OAuthHandler to create an authentication using the given key and secret\n",
    "\n",
    "auth = tweepy.OAuthHandler(consumer_key=con_key, consumer_secret=con_secret)\n",
    "auth.set_access_token(acc_token, acc_secret)\n",
    "\n",
    "#Connect to the Twitter API using the authentication\n",
    "api = tweepy.API(auth, wait_on_rate_limit=True, wait_on_rate_limit_notify = True)\n",
    "\n"
   ]
  },
  {
   "cell_type": "code",
   "execution_count": 62,
   "metadata": {
    "collapsed": false
   },
   "outputs": [
    {
     "name": "stdout",
     "output_type": "stream",
     "text": [
      "Rate limit reached. Sleeping for: 856\n",
      "Rate limit reached. Sleeping for: 858\n",
      "Rate limit reached. Sleeping for: 844\n",
      "Rate limit reached. Sleeping for: 848\n"
     ]
    }
   ],
   "source": [
    "# getting tweets, use #moab and MOAB, filter out retweets, media and urls for date range 04/13/2017 to 04/15/2017\n",
    "# append all the tweets to a list\n",
    "\n",
    "tweet_list = []\n",
    "for tweet in tweepy.Cursor(api.search, q=\"#%23moab -filter:retweets -filter:media -filter:urls\" or \n",
    "                           \"#%23MOAB -filter:retweets -filter:media -filter:urls\" , \n",
    "                            since=\"2017-04-13\",until=\"2017-04-15\",lang=\"en\").items(10000):\n",
    "    \n",
    "    tweet_list.append(tweet)\n"
   ]
  },
  {
   "cell_type": "markdown",
   "metadata": {},
   "source": [
    "## Convert tweet data to json file and create a dataframe and save it to csv file with all the data required for analysis"
   ]
  },
  {
   "cell_type": "code",
   "execution_count": 63,
   "metadata": {
    "collapsed": false
   },
   "outputs": [],
   "source": [
    "# Convert the tweet list to json and save the file. Json data will be in a list tweet_data\n",
    "\n",
    "tweet_data =[]\n",
    "current_working_dir = \"./\"\n",
    "log_tweets = current_working_dir  + str(time.time()) + '_tweet.txt'\n",
    "\n",
    "with open(log_tweets, 'w') as outfile:\n",
    "        for tweet in tweet_list:\n",
    "            tweet_data.append(json.loads(json.dumps(tweet._json)))\n",
    "            outfile.write(json.dumps(tweet._json))\n",
    "            outfile.write(\"\\n\")"
   ]
  },
  {
   "cell_type": "code",
   "execution_count": 64,
   "metadata": {
    "collapsed": false
   },
   "outputs": [],
   "source": [
    "#create a data frame with the data required for analysis\n",
    "\n",
    "tweet_df = pd.DataFrame()\n",
    "\n",
    "tweet_df['created_at'] = list(map(lambda tweet: time.strftime('%m-%d-%Y', \n",
    "                                                time.strptime(tweet['created_at'],'%a %b %d %H:%M:%S +0000 %Y')), tweet_data)) \n",
    "\n",
    "tweet_df['user'] = list(map(lambda tweet: tweet['user']['screen_name'], tweet_data))\n",
    "\n",
    "tweet_df['retweet_count'] = list(map(lambda tweet: tweet['retweet_count'], tweet_data))\n",
    "\n",
    "tweet_df['text'] = list(map(lambda tweet: tweet['text'], tweet_data))\n",
    "\n",
    "tweet_df['clean_text'] = tweet_df['text'].map(lambda x: re.sub(r'\\W+', ' ', x))\n",
    "\n",
    "tweet_df['user_loc'] = list(map(lambda tweet: tweet['user']['location'] if tweet['place'] != None else None, tweet_data))\n",
    "\n",
    "tweet_df['country'] = list(map(lambda tweet: tweet['place']['country_code'] if tweet['place'] != None else None, tweet_data))\n",
    "\n",
    "tweet_df['user_followers_count'] = list(map(lambda tweet: tweet['user']['followers_count'], tweet_data))"
   ]
  },
  {
   "cell_type": "code",
   "execution_count": 68,
   "metadata": {
    "collapsed": false
   },
   "outputs": [],
   "source": [
    "#save the dataframe to a csv file\n",
    "\n",
    "tweet_df.to_csv(\"tweets_data.csv\", encoding='utf-8', index=False)"
   ]
  },
  {
   "cell_type": "code",
   "execution_count": 4,
   "metadata": {
    "collapsed": false
   },
   "outputs": [
    {
     "data": {
      "text/html": [
       "<div>\n",
       "<table border=\"1\" class=\"dataframe\">\n",
       "  <thead>\n",
       "    <tr style=\"text-align: right;\">\n",
       "      <th></th>\n",
       "      <th>created_at</th>\n",
       "      <th>user</th>\n",
       "      <th>retweet_count</th>\n",
       "      <th>text</th>\n",
       "      <th>clean_text</th>\n",
       "      <th>user_loc</th>\n",
       "      <th>country</th>\n",
       "      <th>user_followers_count</th>\n",
       "    </tr>\n",
       "  </thead>\n",
       "  <tbody>\n",
       "    <tr>\n",
       "      <th>0</th>\n",
       "      <td>04-14-2017</td>\n",
       "      <td>007Mugambo</td>\n",
       "      <td>0.0</td>\n",
       "      <td>So the world's richest country bombed one of p...</td>\n",
       "      <td>So the world s richest country bombed one of p...</td>\n",
       "      <td>NaN</td>\n",
       "      <td>NaN</td>\n",
       "      <td>388.0</td>\n",
       "    </tr>\n",
       "    <tr>\n",
       "      <th>1</th>\n",
       "      <td>04-14-2017</td>\n",
       "      <td>CHamiltonBooks</td>\n",
       "      <td>0.0</td>\n",
       "      <td>I just heard my friend say \"The only good thin...</td>\n",
       "      <td>I just heard my friend say The only good thing...</td>\n",
       "      <td>NaN</td>\n",
       "      <td>NaN</td>\n",
       "      <td>7914.0</td>\n",
       "    </tr>\n",
       "    <tr>\n",
       "      <th>2</th>\n",
       "      <td>04-14-2017</td>\n",
       "      <td>BlackBerry_Mama</td>\n",
       "      <td>0.0</td>\n",
       "      <td>This is what the Kingdom of #Moab is known for...</td>\n",
       "      <td>This is what the Kingdom of Moab is known for ...</td>\n",
       "      <td>Manhattan, NY</td>\n",
       "      <td>US</td>\n",
       "      <td>3355.0</td>\n",
       "    </tr>\n",
       "    <tr>\n",
       "      <th>3</th>\n",
       "      <td>04-14-2017</td>\n",
       "      <td>Cheloga2</td>\n",
       "      <td>3.0</td>\n",
       "      <td>You Could Get 68 #HillaryClinton Speeches For ...</td>\n",
       "      <td>You Could Get 68 HillaryClinton Speeches For T...</td>\n",
       "      <td>NaN</td>\n",
       "      <td>NaN</td>\n",
       "      <td>5772.0</td>\n",
       "    </tr>\n",
       "    <tr>\n",
       "      <th>4</th>\n",
       "      <td>04-14-2017</td>\n",
       "      <td>LoganSFrawley</td>\n",
       "      <td>0.0</td>\n",
       "      <td>Some truth, I'm FAR from supporting everything...</td>\n",
       "      <td>Some truth I m FAR from supporting everything ...</td>\n",
       "      <td>NaN</td>\n",
       "      <td>NaN</td>\n",
       "      <td>1016.0</td>\n",
       "    </tr>\n",
       "  </tbody>\n",
       "</table>\n",
       "</div>"
      ],
      "text/plain": [
       "   created_at             user  retweet_count  \\\n",
       "0  04-14-2017       007Mugambo            0.0   \n",
       "1  04-14-2017   CHamiltonBooks            0.0   \n",
       "2  04-14-2017  BlackBerry_Mama            0.0   \n",
       "3  04-14-2017         Cheloga2            3.0   \n",
       "4  04-14-2017    LoganSFrawley            0.0   \n",
       "\n",
       "                                                text  \\\n",
       "0  So the world's richest country bombed one of p...   \n",
       "1  I just heard my friend say \"The only good thin...   \n",
       "2  This is what the Kingdom of #Moab is known for...   \n",
       "3  You Could Get 68 #HillaryClinton Speeches For ...   \n",
       "4  Some truth, I'm FAR from supporting everything...   \n",
       "\n",
       "                                          clean_text       user_loc country  \\\n",
       "0  So the world s richest country bombed one of p...            NaN     NaN   \n",
       "1  I just heard my friend say The only good thing...            NaN     NaN   \n",
       "2  This is what the Kingdom of Moab is known for ...  Manhattan, NY      US   \n",
       "3  You Could Get 68 HillaryClinton Speeches For T...            NaN     NaN   \n",
       "4  Some truth I m FAR from supporting everything ...            NaN     NaN   \n",
       "\n",
       "   user_followers_count  \n",
       "0                 388.0  \n",
       "1                7914.0  \n",
       "2                3355.0  \n",
       "3                5772.0  \n",
       "4                1016.0  "
      ]
     },
     "execution_count": 4,
     "metadata": {},
     "output_type": "execute_result"
    }
   ],
   "source": [
    "#load the csv file\n",
    "\n",
    "moab_df = pd.read_csv(\"C:/Users/Ravi/Documents/Ravi/DS710/ds710spring2017_FinalProject/tweets_data.csv\")\n",
    "moab_df.head()"
   ]
  },
  {
   "cell_type": "markdown",
   "metadata": {},
   "source": [
    "## sentiment analysis using textblob module. In this module ploarity < 0 is negative,                     polarity = 0 is neutral and polarity > 0 is positve. Add columns for polarity value and sentiment for each tweet to existing table."
   ]
  },
  {
   "cell_type": "code",
   "execution_count": 260,
   "metadata": {
    "collapsed": true
   },
   "outputs": [],
   "source": [
    "# using textblob to calulate the sentiment value. Create a function to get the sentiment value\n",
    "\n",
    "def sentiment_value(text):\n",
    "    try:\n",
    "        return TextBlob(text).sentiment.polarity\n",
    "    except:\n",
    "        return None\n"
   ]
  },
  {
   "cell_type": "code",
   "execution_count": null,
   "metadata": {
    "collapsed": true
   },
   "outputs": [],
   "source": [
    "# create a col with sentiment value for each tweet\n",
    "\n",
    "moab_df['sentiment_polarity'] = moab_df['clean_text'].apply(sentiment_value)"
   ]
  },
  {
   "cell_type": "code",
   "execution_count": 261,
   "metadata": {
    "collapsed": true
   },
   "outputs": [],
   "source": [
    "# create a funtion to label the tweet as positve/negative/neutral based on the sentiment value\n",
    "\n",
    "def sentiment(value):\n",
    "    if value >0:\n",
    "        return \"Positive\"\n",
    "    elif value == 0:\n",
    "        return \"neutral\"\n",
    "    else:\n",
    "        return \"negative\""
   ]
  },
  {
   "cell_type": "code",
   "execution_count": 263,
   "metadata": {
    "collapsed": false
   },
   "outputs": [],
   "source": [
    "#create a column with seniment type for each tweet\n",
    "\n",
    "moab_df['sentiment'] = moab_df['sentiment_polarity'].apply(sentiment)"
   ]
  },
  {
   "cell_type": "markdown",
   "metadata": {},
   "source": [
    "## For tweets with country code, create column which has USA for tweets orginated in US and rest of the countries as Rest of the world."
   ]
  },
  {
   "cell_type": "code",
   "execution_count": 291,
   "metadata": {
    "collapsed": false
   },
   "outputs": [],
   "source": [
    "# create a function to return USA for tweets from US and Rest of the world for all other countries\n",
    "def country_code(country):\n",
    "    if country == \"\":\n",
    "        return \"\"\n",
    "    elif country == \"US\":\n",
    "        return \"USA\"\n",
    "    else:\n",
    "        return \"Rest of the World\""
   ]
  },
  {
   "cell_type": "code",
   "execution_count": 292,
   "metadata": {
    "collapsed": true
   },
   "outputs": [],
   "source": [
    "# create a column to label tweets with location information as US or rest of world for all other countries\n",
    "moab_df['region'] = moab_df['country'].apply(country_code)"
   ]
  },
  {
   "cell_type": "code",
   "execution_count": 293,
   "metadata": {
    "collapsed": false
   },
   "outputs": [
    {
     "data": {
      "text/html": [
       "<div>\n",
       "<table border=\"1\" class=\"dataframe\">\n",
       "  <thead>\n",
       "    <tr style=\"text-align: right;\">\n",
       "      <th></th>\n",
       "      <th>created_at</th>\n",
       "      <th>user</th>\n",
       "      <th>retweet_count</th>\n",
       "      <th>text</th>\n",
       "      <th>clean_text</th>\n",
       "      <th>user_loc</th>\n",
       "      <th>country</th>\n",
       "      <th>user_followers_count</th>\n",
       "      <th>sentiment_polarity</th>\n",
       "      <th>sentiment</th>\n",
       "      <th>region</th>\n",
       "    </tr>\n",
       "  </thead>\n",
       "  <tbody>\n",
       "    <tr>\n",
       "      <th>0</th>\n",
       "      <td>04-14-2017</td>\n",
       "      <td>007Mugambo</td>\n",
       "      <td>0.0</td>\n",
       "      <td>So the world's richest country bombed one of p...</td>\n",
       "      <td>So the world s richest country bombed one of p...</td>\n",
       "      <td></td>\n",
       "      <td></td>\n",
       "      <td>388</td>\n",
       "      <td>0</td>\n",
       "      <td>neutral</td>\n",
       "      <td></td>\n",
       "    </tr>\n",
       "    <tr>\n",
       "      <th>1</th>\n",
       "      <td>04-14-2017</td>\n",
       "      <td>CHamiltonBooks</td>\n",
       "      <td>0.0</td>\n",
       "      <td>I just heard my friend say \"The only good thin...</td>\n",
       "      <td>I just heard my friend say The only good thing...</td>\n",
       "      <td></td>\n",
       "      <td></td>\n",
       "      <td>7914</td>\n",
       "      <td>0.35</td>\n",
       "      <td>Positive</td>\n",
       "      <td></td>\n",
       "    </tr>\n",
       "    <tr>\n",
       "      <th>2</th>\n",
       "      <td>04-14-2017</td>\n",
       "      <td>BlackBerry_Mama</td>\n",
       "      <td>0.0</td>\n",
       "      <td>This is what the Kingdom of #Moab is known for...</td>\n",
       "      <td>This is what the Kingdom of Moab is known for ...</td>\n",
       "      <td>Manhattan, NY</td>\n",
       "      <td>US</td>\n",
       "      <td>3355</td>\n",
       "      <td>0</td>\n",
       "      <td>neutral</td>\n",
       "      <td>USA</td>\n",
       "    </tr>\n",
       "    <tr>\n",
       "      <th>3</th>\n",
       "      <td>04-14-2017</td>\n",
       "      <td>Cheloga2</td>\n",
       "      <td>3.0</td>\n",
       "      <td>You Could Get 68 #HillaryClinton Speeches For ...</td>\n",
       "      <td>You Could Get 68 HillaryClinton Speeches For T...</td>\n",
       "      <td></td>\n",
       "      <td></td>\n",
       "      <td>5772</td>\n",
       "      <td>0</td>\n",
       "      <td>neutral</td>\n",
       "      <td></td>\n",
       "    </tr>\n",
       "    <tr>\n",
       "      <th>4</th>\n",
       "      <td>04-14-2017</td>\n",
       "      <td>LoganSFrawley</td>\n",
       "      <td>0.0</td>\n",
       "      <td>Some truth, I'm FAR from supporting everything...</td>\n",
       "      <td>Some truth I m FAR from supporting everything ...</td>\n",
       "      <td></td>\n",
       "      <td></td>\n",
       "      <td>1016</td>\n",
       "      <td>0.247619</td>\n",
       "      <td>Positive</td>\n",
       "      <td></td>\n",
       "    </tr>\n",
       "  </tbody>\n",
       "</table>\n",
       "</div>"
      ],
      "text/plain": [
       "   created_at             user  retweet_count  \\\n",
       "0  04-14-2017       007Mugambo            0.0   \n",
       "1  04-14-2017   CHamiltonBooks            0.0   \n",
       "2  04-14-2017  BlackBerry_Mama            0.0   \n",
       "3  04-14-2017         Cheloga2            3.0   \n",
       "4  04-14-2017    LoganSFrawley            0.0   \n",
       "\n",
       "                                                text  \\\n",
       "0  So the world's richest country bombed one of p...   \n",
       "1  I just heard my friend say \"The only good thin...   \n",
       "2  This is what the Kingdom of #Moab is known for...   \n",
       "3  You Could Get 68 #HillaryClinton Speeches For ...   \n",
       "4  Some truth, I'm FAR from supporting everything...   \n",
       "\n",
       "                                          clean_text       user_loc country  \\\n",
       "0  So the world s richest country bombed one of p...                          \n",
       "1  I just heard my friend say The only good thing...                          \n",
       "2  This is what the Kingdom of Moab is known for ...  Manhattan, NY      US   \n",
       "3  You Could Get 68 HillaryClinton Speeches For T...                          \n",
       "4  Some truth I m FAR from supporting everything ...                          \n",
       "\n",
       "  user_followers_count sentiment_polarity sentiment region  \n",
       "0                  388                  0   neutral         \n",
       "1                 7914               0.35  Positive         \n",
       "2                 3355                  0   neutral    USA  \n",
       "3                 5772                  0   neutral         \n",
       "4                 1016           0.247619  Positive         "
      ]
     },
     "execution_count": 293,
     "metadata": {},
     "output_type": "execute_result"
    }
   ],
   "source": [
    "moab_df.head()"
   ]
  },
  {
   "cell_type": "markdown",
   "metadata": {},
   "source": [
    "## Clean data and export the data to csv file to analyze in R"
   ]
  },
  {
   "cell_type": "code",
   "execution_count": 294,
   "metadata": {
    "collapsed": false
   },
   "outputs": [],
   "source": [
    "#Remove rows where there is no text in the tweet col\n",
    "\n",
    "moab_df = moab_df[moab_df.text != \"\"]"
   ]
  },
  {
   "cell_type": "code",
   "execution_count": 295,
   "metadata": {
    "collapsed": false
   },
   "outputs": [],
   "source": [
    "#since R does not reconize NaN convert all NaN into blanks\n",
    "\n",
    "moab_df.fillna(\"\", inplace=True)"
   ]
  },
  {
   "cell_type": "code",
   "execution_count": 297,
   "metadata": {
    "collapsed": false
   },
   "outputs": [],
   "source": [
    "# load the clean data which has sentiment values into csv. We will use this file to do analysis in R\n",
    "#load the data sepeartely to another file with country data\n",
    "\n",
    "moab_df.to_csv(\"sentiment_data.csv\", encoding='utf-8', index=False)"
   ]
  },
  {
   "cell_type": "markdown",
   "metadata": {},
   "source": [
    "## Create an WordCloud with most common words used"
   ]
  },
  {
   "cell_type": "code",
   "execution_count": 371,
   "metadata": {
    "collapsed": false
   },
   "outputs": [],
   "source": [
    "# create wordcloud from all the tweets to see what are the most used words\n",
    "# join tweets to a single string\n",
    "\n",
    "words = ' '.join(moab_df['text'])"
   ]
  },
  {
   "cell_type": "code",
   "execution_count": 372,
   "metadata": {
    "collapsed": true
   },
   "outputs": [],
   "source": [
    "# remove URLs, RTs, and twitter handles to get clean text in wordcloud\n",
    "clean_words = \" \".join([word for word in words.split()\n",
    "                            if 'http' not in word\n",
    "                                and not word.startswith('@')\n",
    "                                and not word.startswith('#')\n",
    "                                and word != 'RT'\n",
    "                            ])\n"
   ]
  },
  {
   "cell_type": "code",
   "execution_count": 380,
   "metadata": {
    "collapsed": false
   },
   "outputs": [
    {
     "data": {
      "image/png": "[encoded data removed]",
      "text/plain": [
       "<matplotlib.figure.Figure at 0x1e5aab21940>"
      ]
     },
     "metadata": {},
     "output_type": "display_data"
    }
   ],
   "source": [
    "# create word cloud\n",
    "wordcloud = WordCloud(\n",
    "                      font_path='C:/Users/Ravi/fonts/AGENCYR.ttf',\n",
    "                      stopwords=STOPWORDS,\n",
    "                      background_color='black',\n",
    "                      width=2800,\n",
    "                      height=2400\n",
    "                     ).generate(clean_words)\n",
    "\n",
    "plt.imshow(wordcloud)\n",
    "plt.axis('off')\n",
    "plt.show()"
   ]
  },
  {
   "cell_type": "code",
   "execution_count": null,
   "metadata": {
    "collapsed": true
   },
   "outputs": [],
   "source": []
  }
 ],
 "metadata": {
  "anaconda-cloud": {},
  "kernelspec": {
   "display_name": "Python [conda root]",
   "language": "python",
   "name": "conda-root-py"
  },
  "language_info": {
   "codemirror_mode": {
    "name": "ipython",
    "version": 3
   },
   "file_extension": ".py",
   "mimetype": "text/x-python",
   "name": "python",
   "nbconvert_exporter": "python",
   "pygments_lexer": "ipython3",
   "version": "3.5.2"
  }
 },
 "nbformat": 4,
 "nbformat_minor": 1
}
